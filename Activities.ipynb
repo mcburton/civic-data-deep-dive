{
 "cells": [
  {
   "cell_type": "markdown",
   "metadata": {},
   "source": [
    "# Module 5.2 Activities\n",
    "\n",
    "This notebook contains activities for Module 5.2 of the [Civic Data Education Series](https://civic-switchboard.gitbook.io/education-series/). "
   ]
  },
  {
   "cell_type": "code",
   "execution_count": null,
   "metadata": {},
   "outputs": [],
   "source": [
    "# load the Python libraries for working with data\n",
    "import pandas"
   ]
  },
  {
   "cell_type": "code",
   "execution_count": null,
   "metadata": {},
   "outputs": [],
   "source": [
    "# read the csv and save the data in a variable called wifi_data\n",
    "wifi_data = pandas.read_csv(\"clp-public-wifi.csv\")"
   ]
  },
  {
   "cell_type": "markdown",
   "metadata": {},
   "source": [
    "## Activity 1 \n",
    "\n",
    "**Overview**\n",
    "Modify the code below to create different charts for the years 2016 and 2018 respectively.\n",
    "\n",
    "**Step 1:** Specify the year in code.\n",
    "\n",
    "In the code below, change the number `2017` to be `2016` and then execute the code cell. Modify the year to be `2018`, run the cell again and consider the output."
   ]
  },
  {
   "cell_type": "code",
   "execution_count": null,
   "metadata": {},
   "outputs": [],
   "source": [
    "# Specify the year in a variable\n",
    "year = 2017\n",
    "\n",
    "# Select data for specified year, group by library/month, and aggregate by the adding together the minutes\n",
    "wifi_data_subset = wifi_data[wifi_data['Year'] == year].groupby([\"Name\", \"Month\"], as_index=False)[\"WifiMinutes\"].sum()\n",
    "\n",
    "# Reshape the data so it is easier to plot by Month\n",
    "reshaped_wifi_data_subset = wifi_data_subset.pivot_table(index=\"Month\", columns=\"Name\", values=\"WifiMinutes\")\n",
    "\n",
    "# plot the data\n",
    "ax = reshaped_wifi_data_subset.plot(figsize=(10,8),\n",
    "                                    title=f\"Carnegie Library of Pittsburgh {year} Wi-Fi Usage in Minutes\",\n",
    "                                    colormap=\"tab20\",\n",
    "                                    fontsize=14)\n",
    "# clean up the text\n",
    "ax.xaxis.label.set_size(16)\n",
    "ax.title.set_size(20)\n",
    "ax.legend(loc=\"upper right\", bbox_to_anchor=(1.6,1))\n",
    "ax.ticklabel_format(style=\"plain\")\n",
    "\n",
    "# add the Month abreviations instead of numbers\n",
    "ax.set_xticks(ticks=range(1,13),labels=[\"Jan\", \"Feb\", \"Mar\", \"Apr\", \"May\", \"Jun\", \"Jul\",\"Aug\",\"Sep\",\"Oct\",\"Nov\",\"Dec\"]);"
   ]
  },
  {
   "cell_type": "markdown",
   "metadata": {},
   "source": [
    "**Step 2**: Reflection \n",
    "\n",
    "Consider the following questions as you create different charts for each year:\n",
    "- What do we see about these other charts?\n",
    "- Are there meaningful differences in the different years?\n",
    "- What is happening in the 2018 data? What do you think that means?"
   ]
  },
  {
   "cell_type": "markdown",
   "metadata": {},
   "source": [
    "---"
   ]
  },
  {
   "cell_type": "markdown",
   "metadata": {},
   "source": [
    "## Activity 2 - Create a Data User Guide\n",
    "\n",
    "**Overview**: This module created a new dataset `totals_per_neighborhood.csv`. In this activity you will create a Data User Guide for the new dataset. Review the [WPRDC's Data User Guide](https://github.com/rgradeck/Data-User-Guides/blob/master/README.md) instructions and examples.\n",
    "\n",
    "\n",
    "Consider the three datasets that were used to create `totals_per_neighborhood.csv` in the instructional materials.\n",
    "- [CLP Public Wifi](https://data.wprdc.org/dataset/clp-public-wifi)\n",
    "- [CLP Library Locations](https://data.wprdc.org/dataset/libraries)\n",
    "- [Pittsburgh Neighborhoods](https://data.wprdc.org/dataset/neighborhoods2)\n"
   ]
  },
  {
   "cell_type": "markdown",
   "metadata": {},
   "source": [
    "**Step 1:** Run the code below to load the `totals_per_neighborhood.csv` file into Pandas."
   ]
  },
  {
   "cell_type": "code",
   "execution_count": null,
   "metadata": {
    "tags": []
   },
   "outputs": [],
   "source": [
    "# load the totals_per_neighborhood dataset \n",
    "totals_per_neighborhood = pandas.read_csv(\"totals_per_neighborhood.csv\")"
   ]
  },
  {
   "cell_type": "markdown",
   "metadata": {},
   "source": [
    "**Step 2:** Display the dataframe to get see what columns and rows\n",
    "\n",
    "*Hint*: Add the variable name in the code cell below"
   ]
  },
  {
   "cell_type": "code",
   "execution_count": null,
   "metadata": {},
   "outputs": [],
   "source": [
    "# Display the totals_per_neighborhood dataframe  \n",
    "totals_per_neighborhood"
   ]
  },
  {
   "cell_type": "markdown",
   "metadata": {},
   "source": [
    "**Step 3:** Use the data User Guide Template and the narrative in the instructional materials to create a Data User Guide for the new dataset."
   ]
  },
  {
   "cell_type": "markdown",
   "metadata": {},
   "source": [
    "### Data User Guide Template\n",
    "\n",
    "Name of Dataset:  \n",
    "\n",
    "Creator  \n",
    "\n",
    "<B>1. Original Purpose and Application:  </B>\n",
    "\n",
    "<B>2. History and current format: </B>\n",
    "\n",
    "<B>3. Organizational context: </B>\n",
    "\n",
    "<B>4. Work flow: </B>\n",
    "\n",
    "<B>5. Standards and formats: </B>\n",
    "\n",
    "<B>6. Things to know about the data, including limitations: </B>\n",
    "\n",
    "<B>7. Additional Applications: </B>\n",
    "\n",
    "<B>8. Appendix - listing of field values, codebook, etc.</B>\n",
    "\n",
    "<B>9. Sources/Acknowledgements</B>\n"
   ]
  },
  {
   "cell_type": "code",
   "execution_count": null,
   "metadata": {},
   "outputs": [],
   "source": []
  }
 ],
 "metadata": {
  "kernelspec": {
   "display_name": "Python 3 (ipykernel)",
   "language": "python",
   "name": "python3"
  },
  "language_info": {
   "codemirror_mode": {
    "name": "ipython",
    "version": 3
   },
   "file_extension": ".py",
   "mimetype": "text/x-python",
   "name": "python",
   "nbconvert_exporter": "python",
   "pygments_lexer": "ipython3",
   "version": "3.9.12"
  }
 },
 "nbformat": 4,
 "nbformat_minor": 4
}
