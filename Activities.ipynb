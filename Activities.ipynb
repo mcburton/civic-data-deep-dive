{
 "cells": [
  {
   "cell_type": "markdown",
   "metadata": {},
   "source": [
    "# Module 5.2 Activities\n",
    "\n",
    "This notebook contains activities for Module 5.2 of the [Civic Data Education Series](https://civic-switchboard.gitbook.io/education-series/). "
   ]
  },
  {
   "cell_type": "code",
   "execution_count": null,
   "metadata": {},
   "outputs": [],
   "source": [
    "# load the Python libraries for working with data\n",
    "import pandas\n",
    "\n",
    "# read the csv and save the data in a variable called wifi_data\n",
    "wifi_data = pandas.read_csv(\"clp-public-wifi.csv\")\n",
    "\n",
    "# load the library Locations dataset\n",
    "library_locations = pandas.read_csv(\"clp-library-locations.csv\")\n",
    "\n",
    "# Load the totals per neighborhood dataset\n",
    "totals_per_neighborhood = pandas.read_csv(\"totals_per_neighborhood.csv\")\n"
   ]
  },
  {
   "cell_type": "markdown",
   "metadata": {},
   "source": [
    "## Activity 1 \n",
    "\n",
    "**Overview**\n",
    "Modify the code below to create different charts for the years 2016 and 2018 respectively.\n",
    "\n",
    "**Step 1:** Generate the 2017 chat.\n",
    "\n",
    "Run the code cell below by selecting it and typing shift-return or by pressing the play button in the menu bar above. This will generate a chart with data from 2017.\n",
    "\n",
    "**Step 2:** Change the year in the code cell below.\n",
    "\n",
    "In the code below, modify the `year` variable by changing number `2017` to be `2016` and then execute the code cell. Consider the chart and how it changes from the previous chart.  \n",
    "\n",
    "**Step 3:** Change the year again and re-generate the chart.\n",
    "\n",
    "Modify the year to be `2018`, run the cell again, and consider the new chart representing the 2018 data."
   ]
  },
  {
   "cell_type": "code",
   "execution_count": null,
   "metadata": {},
   "outputs": [],
   "source": [
    "# Specify the year in a variable\n",
    "year = 2018\n",
    "\n",
    "# Select data for specified year, group by library/month, and aggregate by the adding together the minutes\n",
    "wifi_data_subset = wifi_data[wifi_data['Year'] == year].groupby([\"Name\", \"Month\"], as_index=False)[\"WifiMinutes\"].sum()\n",
    "\n",
    "# Reshape the data so it is easier to plot by Month\n",
    "reshaped_wifi_data_subset = wifi_data_subset.pivot_table(index=\"Month\", columns=\"Name\", values=\"WifiMinutes\")\n",
    "\n",
    "# plot the data\n",
    "ax = reshaped_wifi_data_subset.plot(figsize=(10,8),\n",
    "                                    title=f\"Carnegie Library of Pittsburgh {year} Wi-Fi Usage in Minutes\",\n",
    "                                    colormap=\"tab20\",\n",
    "                                    fontsize=14)\n",
    "# clean up the text\n",
    "ax.xaxis.label.set_size(16)\n",
    "ax.title.set_size(20)\n",
    "ax.legend(loc=\"upper right\", bbox_to_anchor=(1.6,1))\n",
    "ax.ticklabel_format(style=\"plain\")\n",
    "\n",
    "# add the Month abreviations instead of numbers\n",
    "ax.set_xticks(ticks=range(1,13),labels=[\"Jan\", \"Feb\", \"Mar\", \"Apr\", \"May\", \"Jun\", \"Jul\",\"Aug\",\"Sep\",\"Oct\",\"Nov\",\"Dec\"]);"
   ]
  },
  {
   "cell_type": "markdown",
   "metadata": {},
   "source": [
    "### Activity 1 Reflection\n",
    "\n",
    "Consider the following questions as you create different charts for each year:\n",
    "- What do we see about these other charts?\n",
    "- Are there meaningful differences in the different years?\n",
    "- What is happening in the 2018 data? What do you think that means?"
   ]
  },
  {
   "cell_type": "markdown",
   "metadata": {},
   "source": [
    "---"
   ]
  },
  {
   "cell_type": "markdown",
   "metadata": {},
   "source": [
    "## Activity 2 - Data Driven Question\n",
    "\n",
    "**Overview**: In this activity you will be tasked with answering a data driven questions.\n",
    "\n",
    "*What is the largest of the CLP Library Locations?\n",
    "\n",
    "**Step 1:** Inspect the data\n",
    "\n",
    "Run the code cell below and look at all of the columns in the library locations dataset. What column do you think will be most useful for answering the questions above?"
   ]
  },
  {
   "cell_type": "code",
   "execution_count": null,
   "metadata": {},
   "outputs": [],
   "source": [
    "# display the library locations data\n",
    "library_locations.head()"
   ]
  },
  {
   "cell_type": "markdown",
   "metadata": {},
   "source": [
    "**Step 2:** Computing the Answer\n",
    "\n",
    "Run the code cells below. Each cell contains an attempt at answering our data driven question.  "
   ]
  },
  {
   "cell_type": "code",
   "execution_count": null,
   "metadata": {},
   "outputs": [],
   "source": [
    "# Attempt Number 1\n",
    "library_locations[\"SqFt\"].sum()"
   ]
  },
  {
   "cell_type": "code",
   "execution_count": null,
   "metadata": {},
   "outputs": [],
   "source": [
    "# Attempt Number 2\n",
    "library_locations[\"SqFt\"].max()"
   ]
  },
  {
   "cell_type": "code",
   "execution_count": null,
   "metadata": {},
   "outputs": [],
   "source": [
    "# Attempt Number 3\n",
    "library_locations.sort_values(\"SqFt\", ascending=False)[[\"Name\", \"SqFt\"]]"
   ]
  },
  {
   "cell_type": "markdown",
   "metadata": {},
   "source": [
    "### Activity 2 Reflection\n",
    "\n",
    "Which of the three attempts do you think best answered the question, what is the largest CLP Library location? Was there more than one way to answer our question? If yes, was one solution better than another? What other questions could we answer with the operations we perfomed on the library locations data?\n",
    "\n",
    "Consider the following additional questions, have we already answered them or what operations would you do in order to answer them:\n",
    "- What is the smallest? \n",
    "- What is the total size of all CLP library locations?\n",
    "- What is the average size of the CLP Library locations? \n",
    "\n",
    "Feel free to use the code cell below to try and answer these additional questions."
   ]
  },
  {
   "cell_type": "code",
   "execution_count": null,
   "metadata": {},
   "outputs": [],
   "source": [
    "# Bonus area for answering the additional questions\n",
    "\n"
   ]
  },
  {
   "cell_type": "markdown",
   "metadata": {},
   "source": [
    "---"
   ]
  },
  {
   "cell_type": "markdown",
   "metadata": {},
   "source": [
    "## Activity 3 - Create a Data Dictionary\n",
    "\n",
    "***Overview:*** This module created a new dataset `totals_per_neighborhood.csv`. In this activity you will create a data dictionary for the new dataset. Data dictionaries are an important part of a dataset's metadata. The Data dictionary provides a description of all the *fields* or columns in a dataset and the meaning of those data elements."
   ]
  },
  {
   "cell_type": "markdown",
   "metadata": {},
   "source": [
    "**Step 1:** Display the data.\n",
    "\n",
    "Run the code cell below to display the first five rows of the `totals_per_neighborhood` dataset."
   ]
  },
  {
   "cell_type": "code",
   "execution_count": null,
   "metadata": {
    "tags": []
   },
   "outputs": [],
   "source": [
    "# display the totals_per_neighborhood dataset \n",
    "totals_per_neighborhood.head()"
   ]
  },
  {
   "cell_type": "markdown",
   "metadata": {},
   "source": [
    "**Step 2:** Identify the Fields\n",
    "\n",
    "This dataset has three columns or \"fields\" \n",
    "- What are their names?\n",
    "- How would you describe their contents?\n",
    "- What are the data types for each field, that is, are they numbers, categories, or other values? What does that data value represent?\n",
    "\n",
    "On a separate sheet of paper or in the text cell below, answer the questions above for each column in the `totals_per_neighborhood` dataset."
   ]
  },
  {
   "cell_type": "raw",
   "metadata": {},
   "source": [
    "Add your data dictionary here\n",
    "\n",
    "\n",
    "\n",
    "\n",
    "\n",
    "\n"
   ]
  }
 ],
 "metadata": {
  "kernelspec": {
   "display_name": "Python 3 (ipykernel)",
   "language": "python",
   "name": "python3"
  },
  "language_info": {
   "codemirror_mode": {
    "name": "ipython",
    "version": 3
   },
   "file_extension": ".py",
   "mimetype": "text/x-python",
   "name": "python",
   "nbconvert_exporter": "python",
   "pygments_lexer": "ipython3",
   "version": "3.9.13"
  }
 },
 "nbformat": 4,
 "nbformat_minor": 4
}
